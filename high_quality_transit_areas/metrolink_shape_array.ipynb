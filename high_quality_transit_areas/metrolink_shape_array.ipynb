{
 "cells": [
  {
   "cell_type": "markdown",
   "id": "4d9079f1-5420-45a4-a40b-67ee097f124e",
   "metadata": {},
   "source": [
    "# Metrolink\n",
    "\n",
    "## Summary\n",
    "`trips` can fix the missing `shape_id` values for Metrolink because `route_id`, `direction_id` are present. [See gtfs_utils_v2 here](https://github.com/cal-itp/data-analyses/blob/main/_shared_utils/shared_utils/gtfs_utils_v2.py#L202-L232)\n",
    "\n",
    "`shapes` wouldn't have that fix, and `shape_array_key is None` in the table.\n",
    "\n",
    "Either way, Metrolink is dropped through `trips` directly or thorugh a join between `trip` and `shapes`."
   ]
  },
  {
   "cell_type": "code",
   "execution_count": 1,
   "id": "ffd85730-1f4c-47c2-ba39-ae8f8201f1bb",
   "metadata": {},
   "outputs": [
    {
     "name": "stderr",
     "output_type": "stream",
     "text": [
      "/opt/conda/lib/python3.9/site-packages/geopandas/_compat.py:123: UserWarning: The Shapely GEOS version (3.10.3-CAPI-1.16.1) is incompatible with the GEOS version PyGEOS was compiled with (3.10.1-CAPI-1.16.0). Conversions between both will be slow.\n",
      "  warnings.warn(\n"
     ]
    }
   ],
   "source": [
    "import os\n",
    "os.environ[\"CALITP_BQ_MAX_BYTES\"] = str(200_000_000_000)\n",
    "\n",
    "import geopandas as gpd\n",
    "import pandas as pd\n",
    "\n",
    "from calitp.tables import tbls\n",
    "from siuba import *\n",
    "\n",
    "GCS_FILE_PATH = (\"gs://calitp-analytics-data/data-analyses/\"\n",
    "                 \"rt_delay/compiled_cached_views/\"\n",
    "                )\n",
    "\n",
    "analysis_date = \"2023-01-18\""
   ]
  },
  {
   "cell_type": "code",
   "execution_count": 2,
   "id": "1f84160d-32ce-43f2-b053-56fa84329cd9",
   "metadata": {},
   "outputs": [],
   "source": [
    "trips = pd.read_parquet(\n",
    "    f\"{GCS_FILE_PATH}trips_{analysis_date}.parquet\", \n",
    "    filters = [[(\"name\", \"==\", \"Metrolink Schedule\")]], \n",
    "    columns = [\"feed_key\", \"name\", \n",
    "               \"trip_id\", \"direction_id\",\n",
    "               \"shape_id\", \"shape_array_key\",\n",
    "               \"route_id\"]\n",
    ")"
   ]
  },
  {
   "cell_type": "code",
   "execution_count": 3,
   "id": "d57a6bc0-fb86-46a4-a45d-d67027b2d334",
   "metadata": {},
   "outputs": [
    {
     "data": {
      "text/html": [
       "<div>\n",
       "<style scoped>\n",
       "    .dataframe tbody tr th:only-of-type {\n",
       "        vertical-align: middle;\n",
       "    }\n",
       "\n",
       "    .dataframe tbody tr th {\n",
       "        vertical-align: top;\n",
       "    }\n",
       "\n",
       "    .dataframe thead th {\n",
       "        text-align: right;\n",
       "    }\n",
       "</style>\n",
       "<table border=\"1\" class=\"dataframe\">\n",
       "  <thead>\n",
       "    <tr style=\"text-align: right;\">\n",
       "      <th></th>\n",
       "      <th>feed_key</th>\n",
       "      <th>name</th>\n",
       "      <th>trip_id</th>\n",
       "      <th>direction_id</th>\n",
       "      <th>shape_id</th>\n",
       "      <th>shape_array_key</th>\n",
       "      <th>route_id</th>\n",
       "    </tr>\n",
       "  </thead>\n",
       "  <tbody>\n",
       "    <tr>\n",
       "      <th>0</th>\n",
       "      <td>90e78003416c5b09f77a9de8f266c2be</td>\n",
       "      <td>Metrolink Schedule</td>\n",
       "      <td>233003800</td>\n",
       "      <td>0.0</td>\n",
       "      <td>SBout</td>\n",
       "      <td>None</td>\n",
       "      <td>San Bernardino Line</td>\n",
       "    </tr>\n",
       "    <tr>\n",
       "      <th>1</th>\n",
       "      <td>90e78003416c5b09f77a9de8f266c2be</td>\n",
       "      <td>Metrolink Schedule</td>\n",
       "      <td>233003812</td>\n",
       "      <td>0.0</td>\n",
       "      <td>SBout</td>\n",
       "      <td>None</td>\n",
       "      <td>San Bernardino Line</td>\n",
       "    </tr>\n",
       "    <tr>\n",
       "      <th>2</th>\n",
       "      <td>90e78003416c5b09f77a9de8f266c2be</td>\n",
       "      <td>Metrolink Schedule</td>\n",
       "      <td>200090123</td>\n",
       "      <td>0.0</td>\n",
       "      <td>VTout</td>\n",
       "      <td>None</td>\n",
       "      <td>Ventura County Line</td>\n",
       "    </tr>\n",
       "    <tr>\n",
       "      <th>3</th>\n",
       "      <td>90e78003416c5b09f77a9de8f266c2be</td>\n",
       "      <td>Metrolink Schedule</td>\n",
       "      <td>233003821</td>\n",
       "      <td>1.0</td>\n",
       "      <td>SBin</td>\n",
       "      <td>None</td>\n",
       "      <td>San Bernardino Line</td>\n",
       "    </tr>\n",
       "    <tr>\n",
       "      <th>4</th>\n",
       "      <td>90e78003416c5b09f77a9de8f266c2be</td>\n",
       "      <td>Metrolink Schedule</td>\n",
       "      <td>294100120</td>\n",
       "      <td>1.0</td>\n",
       "      <td>VTin</td>\n",
       "      <td>None</td>\n",
       "      <td>Ventura County Line</td>\n",
       "    </tr>\n",
       "  </tbody>\n",
       "</table>\n",
       "</div>"
      ],
      "text/plain": [
       "                           feed_key                name    trip_id  \\\n",
       "0  90e78003416c5b09f77a9de8f266c2be  Metrolink Schedule  233003800   \n",
       "1  90e78003416c5b09f77a9de8f266c2be  Metrolink Schedule  233003812   \n",
       "2  90e78003416c5b09f77a9de8f266c2be  Metrolink Schedule  200090123   \n",
       "3  90e78003416c5b09f77a9de8f266c2be  Metrolink Schedule  233003821   \n",
       "4  90e78003416c5b09f77a9de8f266c2be  Metrolink Schedule  294100120   \n",
       "\n",
       "   direction_id shape_id shape_array_key             route_id  \n",
       "0           0.0    SBout            None  San Bernardino Line  \n",
       "1           0.0    SBout            None  San Bernardino Line  \n",
       "2           0.0    VTout            None  Ventura County Line  \n",
       "3           1.0     SBin            None  San Bernardino Line  \n",
       "4           1.0     VTin            None  Ventura County Line  "
      ]
     },
     "execution_count": 3,
     "metadata": {},
     "output_type": "execute_result"
    }
   ],
   "source": [
    "trips.head()"
   ]
  },
  {
   "cell_type": "code",
   "execution_count": 4,
   "id": "bce6f885-dd5e-4d83-8c96-625a1c2c40ea",
   "metadata": {},
   "outputs": [],
   "source": [
    "metrolink_feed = trips.feed_key.iloc[0]"
   ]
  },
  {
   "cell_type": "code",
   "execution_count": 5,
   "id": "d931d5af-d8cf-4712-b128-d19c65fb00da",
   "metadata": {},
   "outputs": [
    {
     "data": {
      "text/plain": [
       "'\\nmetrolink_shapes = (\\n        tbls.mart_gtfs.fct_daily_scheduled_shapes()\\n        >> filter(_.service_date == analysis_date, \\n                  _.feed_key == metrolink_feed\\n                 )\\n        >> select(_.feed_key, _.shape_id, \\n                  _.shape_array_key, _.pt_array)\\n    )\\n'"
      ]
     },
     "execution_count": 5,
     "metadata": {},
     "output_type": "execute_result"
    }
   ],
   "source": [
    "'''\n",
    "metrolink_shapes = (\n",
    "        tbls.mart_gtfs.fct_daily_scheduled_shapes()\n",
    "        >> filter(_.service_date == analysis_date, \n",
    "                  _.feed_key == metrolink_feed\n",
    "                 )\n",
    "        >> select(_.feed_key, _.shape_id, \n",
    "                  _.shape_array_key, _.pt_array)\n",
    "    )\n",
    "'''"
   ]
  },
  {
   "cell_type": "code",
   "execution_count": 6,
   "id": "653f8359-0a0c-4458-900b-53b7c4a8895f",
   "metadata": {},
   "outputs": [
    {
     "data": {
      "text/html": [
       "<div>\n",
       "<style scoped>\n",
       "    .dataframe tbody tr th:only-of-type {\n",
       "        vertical-align: middle;\n",
       "    }\n",
       "\n",
       "    .dataframe tbody tr th {\n",
       "        vertical-align: top;\n",
       "    }\n",
       "\n",
       "    .dataframe thead th {\n",
       "        text-align: right;\n",
       "    }\n",
       "</style>\n",
       "<table border=\"1\" class=\"dataframe\">\n",
       "  <thead>\n",
       "    <tr style=\"text-align: right;\">\n",
       "      <th></th>\n",
       "      <th>feed_key</th>\n",
       "      <th>shape_id</th>\n",
       "      <th>shape_array_key</th>\n",
       "      <th>n_trips</th>\n",
       "      <th>geometry</th>\n",
       "    </tr>\n",
       "  </thead>\n",
       "  <tbody>\n",
       "  </tbody>\n",
       "</table>\n",
       "</div>"
      ],
      "text/plain": [
       "Empty GeoDataFrame\n",
       "Columns: [feed_key, shape_id, shape_array_key, n_trips, geometry]\n",
       "Index: []"
      ]
     },
     "execution_count": 6,
     "metadata": {},
     "output_type": "execute_result"
    }
   ],
   "source": [
    "shapes = gpd.read_parquet(\n",
    "    f\"{GCS_FILE_PATH}routelines_{analysis_date}.parquet\",\n",
    "    filters = [[(\"feed_key\", \"==\", metrolink_feed)]]\n",
    ")\n",
    "\n",
    "shapes"
   ]
  },
  {
   "cell_type": "code",
   "execution_count": null,
   "id": "ceed54b9-6b91-4e5d-bf45-126346b81377",
   "metadata": {},
   "outputs": [],
   "source": []
  }
 ],
 "metadata": {
  "kernelspec": {
   "display_name": "Python 3 (ipykernel)",
   "language": "python",
   "name": "python3"
  },
  "language_info": {
   "codemirror_mode": {
    "name": "ipython",
    "version": 3
   },
   "file_extension": ".py",
   "mimetype": "text/x-python",
   "name": "python",
   "nbconvert_exporter": "python",
   "pygments_lexer": "ipython3",
   "version": "3.9.13"
  }
 },
 "nbformat": 4,
 "nbformat_minor": 5
}
